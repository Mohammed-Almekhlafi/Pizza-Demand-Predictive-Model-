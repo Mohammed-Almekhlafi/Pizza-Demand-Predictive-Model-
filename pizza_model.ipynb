{
 "cells": [
  {
   "cell_type": "markdown",
   "id": "924ddc99-c3bf-4390-a75d-00ef4afa611a",
   "metadata": {},
   "source": [
    "# pizza daily damand model- educational"
   ]
  },
  {
   "cell_type": "markdown",
   "id": "d1970ef8-6d70-408d-96ca-635eea017604",
   "metadata": {
    "jp-MarkdownHeadingCollapsed": true
   },
   "source": [
    "## problem statment:<br>\n",
    "A chain of pizza restaurants branches has a main center where pizza dough is produced and then sent to the branches.<br>\n",
    "The dough remains in the branch's refrigerator, valid for a whole day, and through it, the daily demand is covered.<br>\n",
    "The company wants to reduce costs by producing enough quantity for each branch throughout the day and delivering it at once time, also want to reduce the losses that occur as a result of spoilage of the dough 24 hours after its production.<br>\n",
    "The manager of the company used the data analyst and asked him to make a model to estimate the daily demand of pizza for each branche.<br>\n",
    "By knowing the number and size pizza demand, the amount of dough can be known.<br>\n",
    "in this notebook, we We will review the steps taken by the data analyst to solve this problem and bulid the predictive model for one of the branches."
   ]
  },
  {
   "cell_type": "markdown",
   "id": "c1332373-a977-4402-84a8-ee412cc16acc",
   "metadata": {},
   "source": [
    "## step 1 - extract data and define the variables <br>\n",
    "\n",
    "The data in the file: \" Data Model - Pizza Sals.xlsx\" represents the databas.<br>\n",
    "The data analyst entered the branch's database and extracted the data that helps him achieve the goal.<br>\n",
    "\n",
    "Based on the available data in the database, he determined that there are three variables that can affect the daily demand for pizza(independent variables or X ):<br>\n",
    "- The day of the week X3: is it sunday (,1) Monday (,2) Tuesday(3) ? ....etc<br>\n",
    "- day in the month X2: Is it the first day, the second day, the twentieth day, etc.?<br>\n",
    "- time series X1(Demand changes over tim)<br>\n",
    "Based on these variables, the following data were extracted:<br>\n",
    "\"Pizza Sale.csv\""
   ]
  },
  {
   "cell_type": "markdown",
   "id": "71428f6c-82e6-4ab6-be06-5064ec894dad",
   "metadata": {},
   "source": [
    "According to the data, the daily demand is divided into five sizes of pizza (S, M, L, XL, XXL).<br>\n",
    "Each of these sizes is considered to be the dependent variable (target Y).<br>\n",
    "So at the end we should have 5 models<br>\n",
    "\n",
    "NOTE: every code cell will be stand-alone, have its libraries and variables.<br>"
   ]
  },
  {
   "cell_type": "markdown",
   "id": "2cbcbd04-fd35-4524-9878-2d8e85c7a9d5",
   "metadata": {},
   "source": [
    "## step 2 - fitting the model of the small pizza"
   ]
  },
  {
   "cell_type": "code",
   "execution_count": 1,
   "id": "ec0cacc3-c470-4c27-b79e-3caa58d775fa",
   "metadata": {},
   "outputs": [
    {
     "name": "stdout",
     "output_type": "stream",
     "text": [
      "Unnamed: 0  no_of_month day  time_seris  day_of_week  no_of_week_day  L   M   S   XL  XXL\n",
      "0           1                1           thu          5               71  47  42  1   0      1\n",
      "224         13               225         thu          5               48  34  48  0   0      1\n",
      "244         2                245         wed          4               46  40  24  0   0      1\n",
      "243         1                244         tue          3               47  41  52  3   0      1\n",
      "242         31               243         mon          2               48  43  34  0   0      1\n",
      "                                                                                            ..\n",
      "117         28               118         tue          3               37  34  30  0   0      1\n",
      "116         27               117         mon          2               50  39  43  1   0      1\n",
      "115         26               116         sun          1               36  37  37  0   0      1\n",
      "114         25               115         sat          7               46  40  37  2   0      1\n",
      "357         31               358         thu          5               62  59  49  1   0      1\n",
      "Length: 358, dtype: int64\n",
      "Unnamed: 0  no_of_month day  time_seris  day_of_week  no_of_week_day  L   M   S   XL  XXL\n",
      "0           1                1           thu          5               71  47  42  1   0      1\n",
      "266         26               267         thu          5               48  41  46  2   0      1\n",
      "242         31               243         mon          2               48  43  34  0   0      1\n",
      "241         30               242         sun          1               34  24  35  1   0      1\n",
      "240         29               241         sat          7               43  34  41  4   0      1\n",
      "                                                                                            ..\n",
      "116         27               117         mon          2               50  39  43  1   0      1\n",
      "115         26               116         sun          1               36  37  37  0   0      1\n",
      "114         25               115         sat          7               46  40  37  2   0      1\n",
      "113         24               114         fri          6               67  59  40  5   0      1\n",
      "357         31               358         thu          5               62  59  49  1   0      1\n",
      "Length: 354, dtype: int64\n"
     ]
    }
   ],
   "source": [
    "#before fitting the \"small pizza\" model we need to delete the outliers from S column\n",
    "import pandas as pd\n",
    "from scipy import stats\n",
    "\n",
    "\n",
    "df = pd.read_csv(\"Pizza Sales.csv\")\n",
    "# Calculate Z-scores\n",
    "z_scores = stats.zscore(df['S'])\n",
    "\n",
    "# Define a threshold for identifying outliers\n",
    "threshold = 3\n",
    "\n",
    "# Identify and remove outliers\n",
    "outliers_removed = df[(z_scores < threshold) & (z_scores > -threshold)]\n",
    "\n",
    "print(df.value_counts())\n",
    "print(outliers_removed.value_counts())\n",
    "outliers_removed.to_csv(\"pizza_S_outli_remo.csv\")"
   ]
  },
  {
   "cell_type": "markdown",
   "id": "fcbadceb-5aed-4ce8-b72e-f0b001523d1e",
   "metadata": {},
   "source": [
    "The length before removing was 358 and be 354, so four outliers rows removed.<br>"
   ]
  },
  {
   "cell_type": "code",
   "execution_count": 2,
   "id": "b9c3b1eb-1a36-4a8c-974d-7051d9aeb5c8",
   "metadata": {},
   "outputs": [
    {
     "data": {
      "text/html": [
       "<div>\n",
       "<style scoped>\n",
       "    .dataframe tbody tr th:only-of-type {\n",
       "        vertical-align: middle;\n",
       "    }\n",
       "\n",
       "    .dataframe tbody tr th {\n",
       "        vertical-align: top;\n",
       "    }\n",
       "\n",
       "    .dataframe thead th {\n",
       "        text-align: right;\n",
       "    }\n",
       "</style>\n",
       "<table border=\"1\" class=\"dataframe\">\n",
       "  <thead>\n",
       "    <tr style=\"text-align: right;\">\n",
       "      <th></th>\n",
       "      <th>time_seris</th>\n",
       "      <th>no_of_month day</th>\n",
       "      <th>no_of_week_day</th>\n",
       "      <th>S</th>\n",
       "    </tr>\n",
       "  </thead>\n",
       "  <tbody>\n",
       "    <tr>\n",
       "      <th>0</th>\n",
       "      <td>1</td>\n",
       "      <td>1</td>\n",
       "      <td>5</td>\n",
       "      <td>42</td>\n",
       "    </tr>\n",
       "    <tr>\n",
       "      <th>1</th>\n",
       "      <td>2</td>\n",
       "      <td>2</td>\n",
       "      <td>6</td>\n",
       "      <td>50</td>\n",
       "    </tr>\n",
       "    <tr>\n",
       "      <th>2</th>\n",
       "      <td>3</td>\n",
       "      <td>3</td>\n",
       "      <td>7</td>\n",
       "      <td>37</td>\n",
       "    </tr>\n",
       "    <tr>\n",
       "      <th>3</th>\n",
       "      <td>4</td>\n",
       "      <td>4</td>\n",
       "      <td>1</td>\n",
       "      <td>31</td>\n",
       "    </tr>\n",
       "    <tr>\n",
       "      <th>4</th>\n",
       "      <td>5</td>\n",
       "      <td>5</td>\n",
       "      <td>2</td>\n",
       "      <td>32</td>\n",
       "    </tr>\n",
       "  </tbody>\n",
       "</table>\n",
       "</div>"
      ],
      "text/plain": [
       "   time_seris  no_of_month day  no_of_week_day   S\n",
       "0           1                1               5  42\n",
       "1           2                2               6  50\n",
       "2           3                3               7  37\n",
       "3           4                4               1  31\n",
       "4           5                5               2  32"
      ]
     },
     "execution_count": 2,
     "metadata": {},
     "output_type": "execute_result"
    }
   ],
   "source": [
    "#show only the data that will be used to fit the model of small pizza\n",
    "import pandas as pd\n",
    "df=pd.read_csv(\"pizza_S_outli_remo.csv\")\n",
    "dfS= df[[\"time_seris\", \"no_of_month day\", \"no_of_week_day\", \"S\"]]\n",
    "dfS.head()"
   ]
  },
  {
   "cell_type": "code",
   "execution_count": 3,
   "id": "c81b0aa4-9383-45c2-a9f9-cd4c5075f99b",
   "metadata": {},
   "outputs": [
    {
     "data": {
      "text/html": [
       "<div>\n",
       "<style scoped>\n",
       "    .dataframe tbody tr th:only-of-type {\n",
       "        vertical-align: middle;\n",
       "    }\n",
       "\n",
       "    .dataframe tbody tr th {\n",
       "        vertical-align: top;\n",
       "    }\n",
       "\n",
       "    .dataframe thead th {\n",
       "        text-align: right;\n",
       "    }\n",
       "</style>\n",
       "<table border=\"1\" class=\"dataframe\">\n",
       "  <thead>\n",
       "    <tr style=\"text-align: right;\">\n",
       "      <th></th>\n",
       "      <th>time_seris</th>\n",
       "      <th>no_of_month day</th>\n",
       "      <th>no_of_week_day</th>\n",
       "      <th>S</th>\n",
       "    </tr>\n",
       "  </thead>\n",
       "  <tbody>\n",
       "    <tr>\n",
       "      <th>time_seris</th>\n",
       "      <td>1.000000</td>\n",
       "      <td>0.078678</td>\n",
       "      <td>-0.013341</td>\n",
       "      <td>-0.044891</td>\n",
       "    </tr>\n",
       "    <tr>\n",
       "      <th>no_of_month day</th>\n",
       "      <td>0.078678</td>\n",
       "      <td>1.000000</td>\n",
       "      <td>-0.000568</td>\n",
       "      <td>-0.107677</td>\n",
       "    </tr>\n",
       "    <tr>\n",
       "      <th>no_of_week_day</th>\n",
       "      <td>-0.013341</td>\n",
       "      <td>-0.000568</td>\n",
       "      <td>1.000000</td>\n",
       "      <td>0.308537</td>\n",
       "    </tr>\n",
       "    <tr>\n",
       "      <th>S</th>\n",
       "      <td>-0.044891</td>\n",
       "      <td>-0.107677</td>\n",
       "      <td>0.308537</td>\n",
       "      <td>1.000000</td>\n",
       "    </tr>\n",
       "  </tbody>\n",
       "</table>\n",
       "</div>"
      ],
      "text/plain": [
       "                 time_seris  no_of_month day  no_of_week_day         S\n",
       "time_seris         1.000000         0.078678       -0.013341 -0.044891\n",
       "no_of_month day    0.078678         1.000000       -0.000568 -0.107677\n",
       "no_of_week_day    -0.013341        -0.000568        1.000000  0.308537\n",
       "S                 -0.044891        -0.107677        0.308537  1.000000"
      ]
     },
     "execution_count": 3,
     "metadata": {},
     "output_type": "execute_result"
    }
   ],
   "source": [
    "#check the correlation coefficient between the target s and other variables\n",
    "dfS.corr()"
   ]
  },
  {
   "cell_type": "markdown",
   "id": "3f50ff41-b921-4821-b42a-6ee87b05d9c2",
   "metadata": {},
   "source": [
    "<br>As we see in the last row the correlation coefficient between s and  time_seris is very small -0.044891\n",
    "also the \"no_of_month day\" small<br> \n",
    "there is only medeuim correlation between s and \"no_of_week_day\" 0.308537<br>"
   ]
  },
  {
   "cell_type": "code",
   "execution_count": 4,
   "id": "6c52d25c-a3fc-4cce-851c-7488fde0bc02",
   "metadata": {},
   "outputs": [
    {
     "name": "stdout",
     "output_type": "stream",
     "text": [
      " with cross validation, R2 for train data is  0.07605382425773015\n",
      " with cross validation, R2 for test data is  -0.2289715281244303\n"
     ]
    }
   ],
   "source": [
    "#step2.1 simple Linear Regression\n",
    "#start modeling by simple Linear Regression where y= S column and x= \"no_of_week_day\" column\n",
    "\n",
    "from sklearn.linear_model import LinearRegression\n",
    "import numpy as np\n",
    "from sklearn.model_selection import train_test_split\n",
    "from sklearn.model_selection import cross_val_score\n",
    "import pandas as pd\n",
    "df=pd.read_csv(\"pizza_S_outli_remo.csv\")\n",
    "dfS= df[[\"time_seris\", \"no_of_month day\", \"no_of_week_day\", \"S\"]]\n",
    "\n",
    "#splite data into train and test \n",
    "y_data = dfS[['S']]\n",
    "x_data=dfS[[\"no_of_week_day\"]]\n",
    "x_train, x_test, y_train, y_test = train_test_split(x_data, y_data, test_size=0.3, random_state=1)\n",
    "\n",
    "#bulid the Linear Regression object\n",
    "lmS= LinearRegression()\n",
    "\n",
    "#fit the train data and use cross validation to obtain R2 value \n",
    "lmS.fit(x_train, y_train)\n",
    "cv_scores = cross_val_score(lmS, x_train, y_train, cv=10) #since the data is small, take large namber of folds (cv=10)\n",
    "print(\" with cross validation, R2 for train data is \", np.mean(cv_scores))\n",
    "\n",
    "#fit the test data and use cross validation to obtain R2 value\n",
    "lmS.fit(x_test, y_test)\n",
    "cv_scores = cross_val_score(lmS, x_test, y_test, cv=10)\n",
    "print(\" with cross validation, R2 for test data is \", np.mean(cv_scores))"
   ]
  },
  {
   "cell_type": "markdown",
   "id": "c5205f6a-2a39-44a1-87f2-66c4886fb941",
   "metadata": {},
   "source": [
    "<br>as we see the R-squre value of train data is close to zero, and R2 for test data is negative, so THE SIMPLE LINEAR MODELE FAILED!<br>"
   ]
  },
  {
   "cell_type": "code",
   "execution_count": 5,
   "id": "3a238544-f137-4f7b-bdc9-96c9a12f9332",
   "metadata": {},
   "outputs": [
    {
     "name": "stdout",
     "output_type": "stream",
     "text": [
      " with cross validation, R2 for train data is  0.07799805225252492\n",
      " with cross validation, R2 for test data is  -0.21822670511952427\n"
     ]
    }
   ],
   "source": [
    "#step 2.2 multiple Linear Regression\n",
    "# use the same previous code but change the \"x_data\"  variable to add the other varibles \n",
    "\n",
    "from sklearn.linear_model import LinearRegression\n",
    "import numpy as np\n",
    "from sklearn.model_selection import train_test_split\n",
    "from sklearn.model_selection import cross_val_score\n",
    "import pandas as pd\n",
    "\n",
    "df=pd.read_csv(\"pizza_S_outli_remo.csv\")\n",
    "dfS= df[[\"time_seris\", \"no_of_month day\", \"no_of_week_day\", \"S\"]]\n",
    "\n",
    "#splite data into train and test \n",
    "y_data = dfS[['S']]\n",
    "x_data=dfS[[\"time_seris\", \"no_of_month day\", \"no_of_week_day\"]]\n",
    "x_train, x_test, y_train, y_test = train_test_split(x_data, y_data, test_size=0.3, random_state=1)\n",
    "\n",
    "#bulid the Linear Regression object\n",
    "lmS= LinearRegression()\n",
    "\n",
    "#fit the train data and use cross validation to obtain R2 value \n",
    "lmS.fit(x_train, y_train)\n",
    "cv_scores = cross_val_score(lmS, x_train, y_train, cv=10) #since the data is small, take large namber of folds (cv=10)\n",
    "print(\" with cross validation, R2 for train data is \", np.mean(cv_scores))\n",
    "\n",
    "#fit the test data and use cross validation to obtain R2 value\n",
    "lmS.fit(x_test, y_test)\n",
    "cv_scores = cross_val_score(lmS, x_test, y_test, cv=10)\n",
    "print(\" with cross validation, R2 for test data is \", np.mean(cv_scores))"
   ]
  },
  {
   "cell_type": "markdown",
   "id": "b357e93b-4b71-4c51-aeff-4d991fa18d1e",
   "metadata": {},
   "source": [
    "<br>As we see the R-square value of train data is close to zero, and R2 for test data is negative, so THE MULTIPLE LINEAR MODELE FAILED!<br>\n",
    "also its wrose than simple"
   ]
  },
  {
   "cell_type": "code",
   "execution_count": 6,
   "id": "3b6784fc-990f-4209-bb53-d808c5f4d831",
   "metadata": {},
   "outputs": [
    {
     "name": "stdout",
     "output_type": "stream",
     "text": [
      "1   with cross validation, R2 for train data is  0.07799805225252485\n",
      "1   with cross validation, R2 for test data is  -0.21822670511952486\n",
      "2   with cross validation, R2 for train data is  1.0470590375066812e-06\n",
      "2   with cross validation, R2 for test data is  -0.36866873878953044\n",
      "3   with cross validation, R2 for train data is  -0.016195349475512055\n",
      "3   with cross validation, R2 for test data is  -0.5743961234994133\n",
      "4   with cross validation, R2 for train data is  -1.5509809611387644\n",
      "4   with cross validation, R2 for test data is  -0.9565195852114033\n",
      "5   with cross validation, R2 for train data is  -1.1606147456818454\n",
      "5   with cross validation, R2 for test data is  -12.57873102833355\n",
      "6   with cross validation, R2 for train data is  -4.33442632703787\n",
      "6   with cross validation, R2 for test data is  -167.60893258368407\n",
      "7   with cross validation, R2 for train data is  -3.6159553914525\n",
      "7   with cross validation, R2 for test data is  -1536.1191606213565\n",
      "8   with cross validation, R2 for train data is  -4.40197364617512\n",
      "8   with cross validation, R2 for test data is  -25366.21372385477\n",
      "9   with cross validation, R2 for train data is  -20.936623103989003\n",
      "9   with cross validation, R2 for test data is  -11524.760154567866\n",
      "10   with cross validation, R2 for train data is  -31.766085579883953\n",
      "10   with cross validation, R2 for test data is  -243344.47822819854\n"
     ]
    }
   ],
   "source": [
    "#step 2.2 polynomial  Regression\n",
    "\n",
    "from sklearn.linear_model import LinearRegression\n",
    "import numpy as np\n",
    "from sklearn.model_selection import train_test_split\n",
    "from sklearn.model_selection import cross_val_score\n",
    "import pandas as pd\n",
    "from sklearn.preprocessing import PolynomialFeatures\n",
    "\n",
    "df=pd.read_csv(\"pizza_S_outli_remo.csv\")\n",
    "dfS= df[[\"time_seris\", \"no_of_month day\", \"no_of_week_day\", \"S\"]]\n",
    "\n",
    "#splite data into train and test \n",
    "y_data = dfS[['S']]\n",
    "x_data=dfS[[\"time_seris\", \"no_of_month day\", \"no_of_week_day\"]]\n",
    "x_train, x_test, y_train, y_test = train_test_split(x_data, y_data, test_size=0.3, random_state=1)\n",
    "\n",
    "#check R2 vlues for every degree from 1 to 10 degree\n",
    "dg=[1,2,3,4,5,6,7,8,9,10]\n",
    "for d in dg:\n",
    "    pr = PolynomialFeatures(degree=d)\n",
    "\n",
    "    #fit the train data and use cross validation to obtain R2 value \n",
    "    xtrain_poly=pr.fit_transform(x_train[[\"time_seris\", \"no_of_month day\", \"no_of_week_day\"]])\n",
    "    lm = LinearRegression()\n",
    "    lm.fit(xtrain_poly, y_train)\n",
    "    cv_scores = cross_val_score(lm, xtrain_poly, y_train, cv=10)\n",
    "    print(d,\"  with cross validation, R2 for train data is \", np.mean(cv_scores))\n",
    "    \n",
    "    #fit the test data and use cross validation to obtain R2 value \n",
    "    xtest_poly=pr.fit_transform(x_test[[\"time_seris\", \"no_of_month day\", \"no_of_week_day\"]])\n",
    "    lm.fit(xtest_poly, y_test)\n",
    "    cv_scorest = cross_val_score(lm, xtest_poly, y_test, cv=10)\n",
    "    print(d,\"  with cross validation, R2 for test data is \", np.mean(cv_scorest))\n"
   ]
  },
  {
   "cell_type": "markdown",
   "id": "62d2a8da-5037-455e-9fc0-8f6890182813",
   "metadata": {},
   "source": [
    "All R2 values ​​are either negative or heading towards zero, which also means the FAILURE of the Polynomial model!<br>"
   ]
  },
  {
   "cell_type": "markdown",
   "id": "073341a3-3b52-47f9-b636-c355e5527740",
   "metadata": {},
   "source": [
    "What are the possible reasons for the failure of previous models:<br>\n",
    "\n",
    "- The amount of data is small, its only for one year(about 354 row)<br> \n",
    "- Influential variables are missing, for example a variable such as: are there any discount offers on this day?, or: is this day considered an official holiday?, or something else..<br> \n",
    "The existence of these variables will certainly improve the ability to predict demand"
   ]
  },
  {
   "cell_type": "markdown",
   "id": "d4aeba8f-bcad-46be-9382-0afd4051e841",
   "metadata": {},
   "source": [
    "<br>Now we've confirmed that the models fail, let's take a look at the scatter plot of time seris regression<br>"
   ]
  },
  {
   "cell_type": "code",
   "execution_count": 7,
   "id": "36c0941e-21d3-40ce-b1c4-45d37a1ff6fe",
   "metadata": {},
   "outputs": [
    {
     "data": {
      "image/png": "[encoded data removed]",
      "text/plain": [
       "<Figure size 640x480 with 1 Axes>"
      ]
     },
     "metadata": {},
     "output_type": "display_data"
    }
   ],
   "source": [
    "import matplotlib.pyplot as plt\n",
    "import pandas as pd\n",
    "df=pd.read_csv(\"pizza_S_outli_remo.csv\")\n",
    "dfS= df[[\"time_seris\", \"no_of_month day\", \"no_of_week_day\", \"S\"]]\n",
    "\n",
    "x= dfS[\"time_seris\"]\n",
    "y= dfS[\"S\"]\n",
    "plt.scatter(x, y)\n",
    "plt.ylim(0,)\n",
    "plt.show()"
   ]
  },
  {
   "cell_type": "markdown",
   "id": "486ccac1-71f1-493d-b1b7-e09baa1c5814",
   "metadata": {
    "jp-MarkdownHeadingCollapsed": true
   },
   "source": [
    "From the chart, it appears that the distribution of points falls between the range 25 to 60. The concentration of points increases as we approach the middle of the range, and decreases as we move towards the outskirts.<br>\n",
    "This behavior is generally similar to the behavior of the normal distribution.<br>\n",
    "\n",
    "note:  Experienced data analysts start their first steps by looking at the data chart and can determine from the start whether regression analysis is useful or not."
   ]
  },
  {
   "cell_type": "markdown",
   "id": "4f6860dc-dbb0-4c64-ab1c-e8d1f3f6eb7b",
   "metadata": {},
   "source": [
    "<br>Since we know that there is a correlation between \"no_of_week_day\" with the demand, we can now assume that the data for each day of the week follows the normal distribution, then we confirm this hypothesis, then if it is confirmed, we find the confidence interval(CI) for the demand of small pizza for each day.<br>"
   ]
  },
  {
   "cell_type": "markdown",
   "id": "bb0271e9-b96b-43f5-821e-d26b99dc7cdf",
   "metadata": {},
   "source": [
    "## step 3 - check the normallity of small pizza demand"
   ]
  },
  {
   "cell_type": "code",
   "execution_count": 8,
   "id": "cffa9106-968e-4075-be44-f3293977303a",
   "metadata": {},
   "outputs": [
    {
     "data": {
      "image/png": "[encoded data removed]",
      "text/plain": [
       "<Figure size 1200x500 with 1 Axes>"
      ]
     },
     "metadata": {},
     "output_type": "display_data"
    },
    {
     "name": "stdout",
     "output_type": "stream",
     "text": [
      "D'Agostino and Pearson Test: Statistic = 4.6248, p-value = 0.0990\n"
     ]
    }
   ],
   "source": [
    "#step 3 - check the normallity of small pizza demand\n",
    "import numpy as np\n",
    "import matplotlib.pyplot as plt\n",
    "from scipy.stats import shapiro, normaltest\n",
    "import scipy.stats as stats\n",
    "import pandas as pd\n",
    "from scipy.stats import norm\n",
    "\n",
    "# validate the normal distribution of the first week day (sunday) \n",
    "df=pd.read_csv(\"pizza_S_outli_remo.csv\")\n",
    "df = df[df[\"no_of_week_day\"]==1]\n",
    "plt.figure(figsize=(12, 5))\n",
    "\n",
    "#validate by Q-Q Plot\n",
    "plt.subplot(1, 2, 2)\n",
    "stats.probplot(df[\"S\"], dist=\"norm\", plot=plt)\n",
    "plt.title(\"Q-Q Plot\")\n",
    "\n",
    "plt.tight_layout()\n",
    "plt.show()\n",
    "\n",
    "#  statistical normallity test D'Agostino and Pearson's test\n",
    "stat_dap, p_dap = normaltest(df[\"S\"])\n",
    "print(f\"D'Agostino and Pearson Test: Statistic = {stat_dap:.4f}, p-value = {p_dap:.4f}\")\n"
   ]
  },
  {
   "cell_type": "markdown",
   "id": "7ca951c1-9019-445b-8ea8-ce1b759bae72",
   "metadata": {},
   "source": [
    "<br>It is noted that the Q-Q plot represents a straight line\n",
    "And the p value was 0.099, which is greater than 0.05, therefore it was confirmed that graphically and statistically the distribution of small pizza demand on Sundays follows the normal distribution.<br>"
   ]
  },
  {
   "cell_type": "markdown",
   "id": "b40442e3-4641-4ee6-9c35-1e846c30afa4",
   "metadata": {},
   "source": [
    "## step 4 - finding 95% CI"
   ]
  },
  {
   "cell_type": "code",
   "execution_count": 9,
   "id": "1e9e8b78-f8aa-4d44-b8eb-9a32bdeaf507",
   "metadata": {},
   "outputs": [
    {
     "name": "stdout",
     "output_type": "stream",
     "text": [
      "Confidence Interval: (33.8607, 38.0993)\n"
     ]
    }
   ],
   "source": [
    "#step 4 - finding 95% CI\n",
    "import numpy as np\n",
    "import pandas as pd\n",
    "from scipy.stats import norm\n",
    "\n",
    "df=pd.read_csv(\"pizza_S_outli_remo.csv\")\n",
    "df = df[df[\"no_of_week_day\"]==1]\n",
    "confidence_level = 0.95\n",
    "data_mean = np.mean(df[\"S\"])\n",
    "data_std = np.std(df[\"S\"])\n",
    "margin_of_error = norm.ppf(1 - (1 - confidence_level) / 2) * (data_std / np.sqrt(len(df[\"S\"])))\n",
    "\n",
    "lower_bound = data_mean - margin_of_error\n",
    "upper_bound = data_mean + margin_of_error\n",
    "\n",
    "print(f\"Confidence Interval: ({lower_bound:.4f}, {upper_bound:.4f})\")"
   ]
  },
  {
   "cell_type": "code",
   "execution_count": 10,
   "id": "dc42530c-53c6-48bd-9cec-2a5b35ca6514",
   "metadata": {},
   "outputs": [
    {
     "name": "stdout",
     "output_type": "stream",
     "text": [
      "1 D'Agostino and Pearson Test: Statistic = 4.6248, p-value = 0.0990\n",
      "1 Confidence Interval: (33.8607, 38.0993)\n",
      "2 D'Agostino and Pearson Test: Statistic = 1.5196, p-value = 0.4678\n",
      "2 Confidence Interval: (35.6048, 38.9050)\n",
      "3 D'Agostino and Pearson Test: Statistic = 1.6660, p-value = 0.4348\n",
      "3 Confidence Interval: (36.0589, 39.8234)\n",
      "4 D'Agostino and Pearson Test: Statistic = 1.8199, p-value = 0.4025\n",
      "4 Confidence Interval: (34.8282, 39.2502)\n",
      "5 D'Agostino and Pearson Test: Statistic = 4.0372, p-value = 0.1328\n",
      "5 Confidence Interval: (37.9791, 41.6748)\n",
      "6 D'Agostino and Pearson Test: Statistic = 1.5545, p-value = 0.4597\n",
      "6 Confidence Interval: (41.1075, 45.7325)\n",
      "7 D'Agostino and Pearson Test: Statistic = 2.8285, p-value = 0.2431\n",
      "7 Confidence Interval: (40.4382, 44.9904)\n"
     ]
    }
   ],
   "source": [
    "#Repeat steps 3 and 4 for the rest of the week to find the CI of all  days of week\n",
    "\n",
    "import numpy as np\n",
    "import matplotlib.pyplot as plt\n",
    "from scipy.stats import shapiro, normaltest\n",
    "import scipy.stats as stats\n",
    "import pandas as pd\n",
    "from scipy.stats import norm\n",
    "\n",
    "df=pd.read_csv(\"pizza_S_outli_remo.csv\")\n",
    "days=[1,2,3,4,5,6,7]\n",
    "for d in days:\n",
    "    dfS = df[df[\"no_of_week_day\"]==d]\n",
    "    stat_dap, p_dap = normaltest(dfS[\"S\"])\n",
    "    print(d ,f\"D'Agostino and Pearson Test: Statistic = {stat_dap:.4f}, p-value = {p_dap:.4f}\")\n",
    "    confidence_level = 0.95\n",
    "    data_mean = np.mean(dfS[\"S\"])\n",
    "    data_std = np.std(dfS[\"S\"])\n",
    "    margin_of_error = norm.ppf(1 - (1 - confidence_level) / 2) * (data_std / np.sqrt(len(dfS[\"S\"])))\n",
    "    lower_bound = data_mean - margin_of_error\n",
    "    upper_bound = data_mean + margin_of_error\n",
    "    print(d,f\"Confidence Interval: ({lower_bound:.4f}, {upper_bound:.4f})\")"
   ]
  },
  {
   "cell_type": "code",
   "execution_count": 11,
   "id": "53efdda4-8806-4593-a225-1ae52b2ee7a8",
   "metadata": {},
   "outputs": [
    {
     "data": {
      "text/html": [
       "<div>\n",
       "<style scoped>\n",
       "    .dataframe tbody tr th:only-of-type {\n",
       "        vertical-align: middle;\n",
       "    }\n",
       "\n",
       "    .dataframe tbody tr th {\n",
       "        vertical-align: top;\n",
       "    }\n",
       "\n",
       "    .dataframe thead th {\n",
       "        text-align: right;\n",
       "    }\n",
       "</style>\n",
       "<table border=\"1\" class=\"dataframe\">\n",
       "  <thead>\n",
       "    <tr style=\"text-align: right;\">\n",
       "      <th></th>\n",
       "      <th>SUN</th>\n",
       "      <th>MON</th>\n",
       "      <th>TUE</th>\n",
       "      <th>WED</th>\n",
       "      <th>THU</th>\n",
       "      <th>FRI</th>\n",
       "      <th>SAT</th>\n",
       "    </tr>\n",
       "  </thead>\n",
       "  <tbody>\n",
       "    <tr>\n",
       "      <th>minCI</th>\n",
       "      <td>33.8607</td>\n",
       "      <td>35.6048</td>\n",
       "      <td>36.0589</td>\n",
       "      <td>34.8282</td>\n",
       "      <td>37.9791</td>\n",
       "      <td>41.1075</td>\n",
       "      <td>40.4382</td>\n",
       "    </tr>\n",
       "    <tr>\n",
       "      <th>maxCI</th>\n",
       "      <td>38.0993</td>\n",
       "      <td>38.9050</td>\n",
       "      <td>39.8234</td>\n",
       "      <td>39.2502</td>\n",
       "      <td>41.6748</td>\n",
       "      <td>45.7325</td>\n",
       "      <td>44.9904</td>\n",
       "    </tr>\n",
       "  </tbody>\n",
       "</table>\n",
       "</div>"
      ],
      "text/plain": [
       "           SUN      MON      TUE      WED      THU      FRI      SAT\n",
       "minCI  33.8607  35.6048  36.0589  34.8282  37.9791  41.1075  40.4382\n",
       "maxCI  38.0993  38.9050  39.8234  39.2502  41.6748  45.7325  44.9904"
      ]
     },
     "execution_count": 11,
     "metadata": {},
     "output_type": "execute_result"
    }
   ],
   "source": [
    "#show the days of week and CI limits as a table \n",
    "import pandas as pd \n",
    "small_pizzaCI={\"SUN\":[33.8607, 38.0993], \"MON\": [35.6048, 38.9050], \"TUE\" : [36.0589, 39.8234],\n",
    "               \"WED\":[34.8282, 39.2502], \"THU\": [37.9791, 41.6748], \"FRI\": [41.1075, 45.7325], \"SAT\": [40.4382, 44.9904]}\n",
    "dfS_output=pd.DataFrame(small_pizzaCI)\n",
    "dfS_output=dfS_output.rename(index={0: \"minCI\", 1: \"maxCI\"})\n",
    "dfS_output.head()"
   ]
  },
  {
   "cell_type": "markdown",
   "id": "2150075d-33e2-401f-9221-432bca2ca969",
   "metadata": {},
   "source": [
    "Note: the same previous steps must be taken to find a confidence interval tables for each of the rest sizes (M, L, XL, XXL)"
   ]
  },
  {
   "cell_type": "markdown",
   "id": "ed188c84-698c-4c48-b7b4-86786fe1ba6b",
   "metadata": {},
   "source": [
    "## The suggested solutions"
   ]
  },
  {
   "cell_type": "markdown",
   "id": "0631dced-d00d-4267-a578-afcb86bf84d0",
   "metadata": {},
   "source": [
    "<br>Finally, the data analyst proposed the following two solutions:<br>\n",
    "1- Providing the branch with \"maxCI\" value to reduce the possibility of running out of dough.<br>\n",
    "2- Dividing the process of supplying the branch into two batches<br>\n",
    "The first batche is defining by \"minCI\" and a second batch if the first batch runs out.<br>"
   ]
  },
  {
   "cell_type": "markdown",
   "id": "7eacbdef-1ebd-4341-8485-0b26e9d74811",
   "metadata": {},
   "source": [
    "<br>NOTE :If the administration chooses the second solution,<br>\n",
    "The data analyst must build a mathematical model to determine the amount of the second batch.<br>\n",
    "For example, this model might be based on the number of working hours remaining before the next day's batch arrives.<br>\n",
    "\n",
    "Best Wishes <br>"
   ]
  },
  {
   "cell_type": "markdown",
   "id": "48c70c20-9528-4ab1-91bb-ed7813534682",
   "metadata": {},
   "source": [
    "### Author:\n",
    "Eng Mohammed Almekhlafi<br>"
   ]
  },
  {
   "cell_type": "markdown",
   "id": "9722202b-b697-4b44-a09a-2100a025926d",
   "metadata": {},
   "source": [
    "### data source:\n",
    "https://www.kaggle.com/datasets/shilongzhuang/pizza-sales<br>"
   ]
  }
 ],
 "metadata": {
  "kernelspec": {
   "display_name": "Python 3 (ipykernel)",
   "language": "python",
   "name": "python3"
  },
  "language_info": {
   "codemirror_mode": {
    "name": "ipython",
    "version": 3
   },
   "file_extension": ".py",
   "mimetype": "text/x-python",
   "name": "python",
   "nbconvert_exporter": "python",
   "pygments_lexer": "ipython3",
   "version": "3.11.0"
  }
 },
 "nbformat": 4,
 "nbformat_minor": 5
}
